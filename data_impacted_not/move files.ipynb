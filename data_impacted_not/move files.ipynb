{
 "cells": [
  {
   "cell_type": "markdown",
   "source": [
    "# Now we have the files that are impacted teeth, we can move the files to a new folder structure\n",
    "The files are moved from the train, test and valid folders to the new folders it is checked if the file is already in the folder, if it is not it is copied to the folder. It is checked if a file has an impacted depending on the file name. If the file name is in the list of impacted teeth files, it is copied to the impacted folder, if not it is copied to the not_impacted folder."
   ],
   "metadata": {
    "collapsed": false
   }
  },
  {
   "cell_type": "code",
   "execution_count": null,
   "outputs": [],
   "source": [
    "def get_all_impacted_teeth_files(impacted_df_train,impacted_df_test,impacted_df_valid):\n",
    "    \"\"\"\n",
    "    Parameters\n",
    "    ----------\n",
    "    impacted_df_train : pandas dataframe\n",
    "        dataframe with the impacted teeth\n",
    "    impacted_df_test : pandas dataframe\n",
    "        dataframe with the impacted teeth\n",
    "    impacted_df_valid : pandas dataframe\n",
    "        dataframe with the impacted teeth\n",
    "    data_folder : str, optional\n",
    "        folder where the data is located\n",
    "\n",
    "    data_subfolder : str, optional\n",
    "        subfolder where the data is located\n",
    "\n",
    "    Returns\n",
    "    -------\n",
    "    list of file paths\n",
    "    \"\"\"\n",
    "    file_paths = []\n",
    "    for index, row in impacted_df_train.iterrows():\n",
    "        file_paths.append(row['filename'])\n",
    "    for index, row in impacted_df_valid.iterrows():\n",
    "        file_paths.append(row['filename'])\n",
    "    for index, row in impacted_df_test.iterrows():\n",
    "        file_paths.append(row['filename'])\n",
    "    return file_paths\n",
    "impacted_teeth_files = set(get_all_impacted_teeth_files(impacted_df_train,impacted_df_test,impacted_df_valid))"
   ],
   "metadata": {
    "collapsed": false
   }
  },
  {
   "cell_type": "code",
   "execution_count": null,
   "metadata": {
    "collapsed": true
   },
   "outputs": [],
   "source": [
    "i = 0\n",
    "for train_test_valid in [\"train\", \"test\", \"valid\"]:\n",
    "    folder_path = f\"data/{train_test_valid}\"\n",
    "    if not os.path.isdir(\"data_impacted_not\"):\n",
    "        os.makedirs(\"data_impacted_not\")\n",
    "    if not os.path.isdir(f\"data_impacted_not/{train_test_valid}\"):\n",
    "        os.makedirs(f\"data_impacted_not/{train_test_valid}\")\n",
    "    if not os.path.isdir(f\"data_impacted_not/{train_test_valid}/impacted\"):\n",
    "        os.makedirs(f\"data_impacted_not/{train_test_valid}/impacted\")\n",
    "    if not os.path.isdir(f\"data_impacted_not/{train_test_valid}/not_impacted\"):\n",
    "        os.makedirs(f\"data_impacted_not/{train_test_valid}/not_impacted\")\n",
    "\n",
    "    for file in os.listdir(folder_path):\n",
    "        if file in impacted_teeth_files and not os.path.isfile(f\"data_impacted_not/{train_test_valid}/impacted/{file}\"):\n",
    "            shutil.copyfile(src=f\"{folder_path}/{file}\", dst=f\"data_impacted_not/{train_test_valid}/impacted/{file}\")\n",
    "        elif file.endswith(\".jpg\") and file not in impacted_teeth_files and not os.path.isfile(f\"data_impacted_not/{train_test_valid}/not_impacted/{file}\"):\n",
    "            #print(os.path.isfile(\"data_impacted_not/{train_test_valid}/not_impacted/{file}\"))\n",
    "            shutil.copyfile(src=f\"{folder_path}/{file}\", dst=f\"data_impacted_not/{train_test_valid}/not_impacted/{file}\")\n",
    "\n",
    "            i+= 1\n",
    "            #print(file)\n",
    "\n",
    "            #print(file)\n"
   ]
  }
 ],
 "metadata": {
  "kernelspec": {
   "display_name": "Python 3",
   "language": "python",
   "name": "python3"
  },
  "language_info": {
   "codemirror_mode": {
    "name": "ipython",
    "version": 2
   },
   "file_extension": ".py",
   "mimetype": "text/x-python",
   "name": "python",
   "nbconvert_exporter": "python",
   "pygments_lexer": "ipython2",
   "version": "2.7.6"
  }
 },
 "nbformat": 4,
 "nbformat_minor": 0
}
