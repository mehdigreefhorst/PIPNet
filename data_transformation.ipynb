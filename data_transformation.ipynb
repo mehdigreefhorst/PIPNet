{
 "cells": [
  {
   "cell_type": "markdown",
   "source": [
    "# Transform the data from the files and structure it in the correct pytorch way\n"
   ],
   "metadata": {
    "collapsed": false
   }
  },
  {
   "cell_type": "code",
   "execution_count": 2,
   "metadata": {
    "collapsed": true,
    "ExecuteTime": {
     "start_time": "2024-03-20T11:17:58.383268Z",
     "end_time": "2024-03-20T11:17:58.847397Z"
    }
   },
   "outputs": [],
   "source": [
    "\n",
    "import pandas as pd\n",
    "import numpy as np\n",
    "import matplotlib.pyplot as plt\n",
    "import os\n",
    "import shutil\n"
   ]
  },
  {
   "cell_type": "code",
   "execution_count": 3,
   "outputs": [],
   "source": [
    "df_teeth_train = pd.read_csv('data/train/_annotations.csv')\n",
    "\n",
    "df_teeth_valid = pd.read_csv('data/valid/_annotations.csv')\n",
    "\n",
    "df_teeth_test = pd.read_csv('data/test/_annotations.csv')\n",
    "\n"
   ],
   "metadata": {
    "collapsed": false,
    "ExecuteTime": {
     "start_time": "2024-03-20T11:17:59.884450Z",
     "end_time": "2024-03-20T11:17:59.902810Z"
    }
   }
  },
  {
   "cell_type": "code",
   "execution_count": 4,
   "outputs": [
    {
     "data": {
      "text/plain": "                                              filename  width  height  \\\n0     0674_jpg.rf.e02a155a0c135687b9301ff9a20d220a.jpg    512     256   \n1     0674_jpg.rf.e02a155a0c135687b9301ff9a20d220a.jpg    512     256   \n2     0674_jpg.rf.e02a155a0c135687b9301ff9a20d220a.jpg    512     256   \n3     0674_jpg.rf.e02a155a0c135687b9301ff9a20d220a.jpg    512     256   \n4     0674_jpg.rf.e02a155a0c135687b9301ff9a20d220a.jpg    512     256   \n...                                                ...    ...     ...   \n8025  0754_jpg.rf.db2bd5c2b60f60c565a2fa1b49d81d91.jpg    512     256   \n8026  0754_jpg.rf.db2bd5c2b60f60c565a2fa1b49d81d91.jpg    512     256   \n8027  0754_jpg.rf.db2bd5c2b60f60c565a2fa1b49d81d91.jpg    512     256   \n8028  0283_jpg.rf.df11105141de584571ccee130f419077.jpg    512     256   \n8029  0283_jpg.rf.df11105141de584571ccee130f419077.jpg    512     256   \n\n               class  xmin  ymin  xmax  ymax  \n0            Implant   175   116   206   153  \n1           Fillings   170   109   189   133  \n2            Implant   221   124   257   178  \n3            Implant   302   126   329   175  \n4            Implant   335   114   360   154  \n...              ...   ...   ...   ...   ...  \n8025        Fillings   319    96   335   143  \n8026        Fillings   284   149   303   203  \n8027        Fillings   306    95   320   146  \n8028  Impacted Tooth   372   133   399   162  \n8029  Impacted Tooth   130    76   151   107  \n\n[8030 rows x 8 columns]",
      "text/html": "<div>\n<style scoped>\n    .dataframe tbody tr th:only-of-type {\n        vertical-align: middle;\n    }\n\n    .dataframe tbody tr th {\n        vertical-align: top;\n    }\n\n    .dataframe thead th {\n        text-align: right;\n    }\n</style>\n<table border=\"1\" class=\"dataframe\">\n  <thead>\n    <tr style=\"text-align: right;\">\n      <th></th>\n      <th>filename</th>\n      <th>width</th>\n      <th>height</th>\n      <th>class</th>\n      <th>xmin</th>\n      <th>ymin</th>\n      <th>xmax</th>\n      <th>ymax</th>\n    </tr>\n  </thead>\n  <tbody>\n    <tr>\n      <th>0</th>\n      <td>0674_jpg.rf.e02a155a0c135687b9301ff9a20d220a.jpg</td>\n      <td>512</td>\n      <td>256</td>\n      <td>Implant</td>\n      <td>175</td>\n      <td>116</td>\n      <td>206</td>\n      <td>153</td>\n    </tr>\n    <tr>\n      <th>1</th>\n      <td>0674_jpg.rf.e02a155a0c135687b9301ff9a20d220a.jpg</td>\n      <td>512</td>\n      <td>256</td>\n      <td>Fillings</td>\n      <td>170</td>\n      <td>109</td>\n      <td>189</td>\n      <td>133</td>\n    </tr>\n    <tr>\n      <th>2</th>\n      <td>0674_jpg.rf.e02a155a0c135687b9301ff9a20d220a.jpg</td>\n      <td>512</td>\n      <td>256</td>\n      <td>Implant</td>\n      <td>221</td>\n      <td>124</td>\n      <td>257</td>\n      <td>178</td>\n    </tr>\n    <tr>\n      <th>3</th>\n      <td>0674_jpg.rf.e02a155a0c135687b9301ff9a20d220a.jpg</td>\n      <td>512</td>\n      <td>256</td>\n      <td>Implant</td>\n      <td>302</td>\n      <td>126</td>\n      <td>329</td>\n      <td>175</td>\n    </tr>\n    <tr>\n      <th>4</th>\n      <td>0674_jpg.rf.e02a155a0c135687b9301ff9a20d220a.jpg</td>\n      <td>512</td>\n      <td>256</td>\n      <td>Implant</td>\n      <td>335</td>\n      <td>114</td>\n      <td>360</td>\n      <td>154</td>\n    </tr>\n    <tr>\n      <th>...</th>\n      <td>...</td>\n      <td>...</td>\n      <td>...</td>\n      <td>...</td>\n      <td>...</td>\n      <td>...</td>\n      <td>...</td>\n      <td>...</td>\n    </tr>\n    <tr>\n      <th>8025</th>\n      <td>0754_jpg.rf.db2bd5c2b60f60c565a2fa1b49d81d91.jpg</td>\n      <td>512</td>\n      <td>256</td>\n      <td>Fillings</td>\n      <td>319</td>\n      <td>96</td>\n      <td>335</td>\n      <td>143</td>\n    </tr>\n    <tr>\n      <th>8026</th>\n      <td>0754_jpg.rf.db2bd5c2b60f60c565a2fa1b49d81d91.jpg</td>\n      <td>512</td>\n      <td>256</td>\n      <td>Fillings</td>\n      <td>284</td>\n      <td>149</td>\n      <td>303</td>\n      <td>203</td>\n    </tr>\n    <tr>\n      <th>8027</th>\n      <td>0754_jpg.rf.db2bd5c2b60f60c565a2fa1b49d81d91.jpg</td>\n      <td>512</td>\n      <td>256</td>\n      <td>Fillings</td>\n      <td>306</td>\n      <td>95</td>\n      <td>320</td>\n      <td>146</td>\n    </tr>\n    <tr>\n      <th>8028</th>\n      <td>0283_jpg.rf.df11105141de584571ccee130f419077.jpg</td>\n      <td>512</td>\n      <td>256</td>\n      <td>Impacted Tooth</td>\n      <td>372</td>\n      <td>133</td>\n      <td>399</td>\n      <td>162</td>\n    </tr>\n    <tr>\n      <th>8029</th>\n      <td>0283_jpg.rf.df11105141de584571ccee130f419077.jpg</td>\n      <td>512</td>\n      <td>256</td>\n      <td>Impacted Tooth</td>\n      <td>130</td>\n      <td>76</td>\n      <td>151</td>\n      <td>107</td>\n    </tr>\n  </tbody>\n</table>\n<p>8030 rows × 8 columns</p>\n</div>"
     },
     "execution_count": 4,
     "metadata": {},
     "output_type": "execute_result"
    }
   ],
   "source": [],
   "metadata": {
    "collapsed": false,
    "ExecuteTime": {
     "start_time": "2024-03-20T11:18:02.653872Z",
     "end_time": "2024-03-20T11:18:02.658367Z"
    }
   }
  },
  {
   "cell_type": "code",
   "execution_count": 35,
   "outputs": [
    {
     "name": "stdout",
     "output_type": "stream",
     "text": [
      "dataset/train/implant\n",
      "hi\n",
      "dataset/train/impacted\n",
      "hi\n",
      "dataset/train/filling\n",
      "hi\n",
      "dataset/test/implant\n",
      "hi\n",
      "dataset/test/impacted\n",
      "hi\n",
      "dataset/test/filling\n",
      "hi\n"
     ]
    }
   ],
   "source": [
    "def get_training_rows_per_category(df):\n",
    "    \"\"\"\n",
    "    move the data from the train set, to a correct folder structure e.g.\n",
    "    root/class/xxximg.jpg\n",
    "    \"\"\"\n",
    "    implant_file_paths = df[df['class']==\"Implant\"][\"filename\"]\n",
    "    impacted_file_paths = df[df['class']==\"Impacted Tooth\"][\"filename\"]\n",
    "    fillings_file_paths = df[df['class']==\"Fillings\"][\"filename\"]\n",
    "\n",
    "\n",
    "    class_path_dict ={\n",
    "        \"impacted\": list(impacted_file_paths),\n",
    "        \"implant\": list(implant_file_paths),\n",
    "        \"filling\": list(fillings_file_paths)\n",
    "    }\n",
    "\n",
    "    return class_path_dict\n",
    "\n",
    "def move_file_paths(class_path_dict, train_or_test=\"train\"):\n",
    "    \"\"\"\n",
    "    moves the file sin the class_path_dict to the correct class path in the destination\n",
    "    \"\"\"\n",
    "    destination_classes = [\"implant\", \"impacted\", \"filling\"]\n",
    "    for destination in destination_classes:\n",
    "        print(f\"dataset/{train_or_test}/{destination}\")\n",
    "        file_path = f\"dataset/{train_or_test}/{destination}\"\n",
    "        if not os.path.exists(file_path):\n",
    "            os.makedirs(file_path)\n",
    "            print(\"hi\")\n",
    "\n",
    "    for class_cat, file_namelist in class_path_dict.items():\n",
    "        for file_name in file_namelist:\n",
    "            path_source = f\"data/{train_or_test}/{file_name}\"\n",
    "            destination = f\"dataset/{train_or_test}/{class_cat}/{file_name}\"\n",
    "            shutil.copyfile(src=path_source, dst=destination)\n",
    "\n",
    "\n",
    "\n",
    "train_class_with_file_names_dict = get_training_rows_per_category(df_teeth_train)\n",
    "move_file_paths(train_class_with_file_names_dict, \"train\")\n",
    "\n",
    "test_class_with_file_names_dict = get_training_rows_per_category(df_teeth_test)\n",
    "move_file_paths(test_class_with_file_names_dict, \"test\")"
   ],
   "metadata": {
    "collapsed": false,
    "ExecuteTime": {
     "start_time": "2024-03-14T14:57:15.586542Z",
     "end_time": "2024-03-14T14:57:16.854271Z"
    }
   }
  },
  {
   "cell_type": "code",
   "execution_count": null,
   "outputs": [],
   "source": [],
   "metadata": {
    "collapsed": false
   }
  }
 ],
 "metadata": {
  "kernelspec": {
   "display_name": "Python 3",
   "language": "python",
   "name": "python3"
  },
  "language_info": {
   "codemirror_mode": {
    "name": "ipython",
    "version": 2
   },
   "file_extension": ".py",
   "mimetype": "text/x-python",
   "name": "python",
   "nbconvert_exporter": "python",
   "pygments_lexer": "ipython2",
   "version": "2.7.6"
  }
 },
 "nbformat": 4,
 "nbformat_minor": 0
}
